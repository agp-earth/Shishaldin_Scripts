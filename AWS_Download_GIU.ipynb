{
 "cells": [
  {
   "cell_type": "markdown",
   "metadata": {},
   "source": [
    "## Downlaod GOES from aws"
   ]
  },
  {
   "cell_type": "code",
   "execution_count": 1,
   "metadata": {},
   "outputs": [],
   "source": [
    "# Import Python packages\n",
    "\n",
    "# Library to perform array operations\n",
    "import numpy as np\n",
    "\n",
    "# Module to interface with Amazon Simple Storage Service (S3)\n",
    "import s3fs\n",
    "\n",
    "# Module for manipulating dates and times\n",
    "import datetime\n",
    "\n",
    "# Library to create progress bars for loops/functions\n",
    "from tqdm import tqdm\n",
    "\n",
    "# Module for accessing system-specific parameters and functions\n",
    "import sys\n",
    "\n",
    "# Library to access core utilities for Python packages\n",
    "from packaging.version import parse\n",
    "\n",
    "# Module to set filesystem paths appropriate for user's operating system\n",
    "from pathlib import Path\n",
    "\n",
    "# Modules to create interactive menus in Jupyter Notebook\n",
    "from IPython.display import display\n",
    "import ipywidgets as widgets\n"
   ]
  },
  {
   "cell_type": "code",
   "execution_count": 2,
   "metadata": {},
   "outputs": [
    {
     "name": "stdout",
     "output_type": "stream",
     "text": [
      "If you change menu selections (e.g., to run another search), do NOT re-run this block!\n",
      "Re-running will re-set all menus to their defaults!\n"
     ]
    },
    {
     "data": {
      "application/vnd.jupyter.widget-view+json": {
       "model_id": "16c141312b564fe7a640d3e906925f8a",
       "version_major": 2,
       "version_minor": 0
      },
      "text/plain": [
       "Dropdown(description='Satellite:', layout=Layout(width='375px'), options=(('GOES-16', 16), ('GOES-17', 17), ('…"
      ]
     },
     "metadata": {},
     "output_type": "display_data"
    },
    {
     "data": {
      "application/vnd.jupyter.widget-view+json": {
       "model_id": "2ec318939c714b708b9f96f6e284dfcd",
       "version_major": 2,
       "version_minor": 0
      },
      "text/plain": [
       "Dropdown(description='Product:', layout=Layout(width='375px'), options=('ABI-L1b-Rad', 'Aerosol Detection', 'A…"
      ]
     },
     "metadata": {},
     "output_type": "display_data"
    },
    {
     "data": {
      "application/vnd.jupyter.widget-view+json": {
       "model_id": "0021272765b14dbe9e3b457e4833c922",
       "version_major": 2,
       "version_minor": 0
      },
      "text/plain": [
       "Dropdown(description='Scan Sector:', layout=Layout(width='375px'), options=('Full Disk', 'CONUS', 'Meso 1', 'M…"
      ]
     },
     "metadata": {},
     "output_type": "display_data"
    },
    {
     "data": {
      "application/vnd.jupyter.widget-view+json": {
       "model_id": "127b0f6e5aae438eb88a98dadc3c34b9",
       "version_major": 2,
       "version_minor": 0
      },
      "text/plain": [
       "Dropdown(description='Year:', layout=Layout(width='375px'), options=(('2019', 2019), ('2020', 2020), ('2021', …"
      ]
     },
     "metadata": {},
     "output_type": "display_data"
    },
    {
     "data": {
      "application/vnd.jupyter.widget-view+json": {
       "model_id": "b799f5c50bc04af898ea2a8e39b68061",
       "version_major": 2,
       "version_minor": 0
      },
      "text/plain": [
       "Dropdown(description='Month:', layout=Layout(width='375px'), options=(('Jan', 1), ('Feb', 2), ('Mar', 3), ('Ap…"
      ]
     },
     "metadata": {},
     "output_type": "display_data"
    },
    {
     "data": {
      "application/vnd.jupyter.widget-view+json": {
       "model_id": "a6f72d57050d47a7a9ca49c6d4d91c93",
       "version_major": 2,
       "version_minor": 0
      },
      "text/plain": [
       "Dropdown(description='Day:', layout=Layout(width='375px'), options=(('1', 1), ('2', 2), ('3', 3), ('4', 4), ('…"
      ]
     },
     "metadata": {},
     "output_type": "display_data"
    },
    {
     "data": {
      "application/vnd.jupyter.widget-view+json": {
       "model_id": "6f916fcfc7e04db990b300baa76f5b52",
       "version_major": 2,
       "version_minor": 0
      },
      "text/plain": [
       "SelectMultiple(description='Bands (if L1B):', layout=Layout(width='375px'), options=('C01', 'C02', 'C03', 'C04…"
      ]
     },
     "metadata": {},
     "output_type": "display_data"
    },
    {
     "data": {
      "application/vnd.jupyter.widget-view+json": {
       "model_id": "6aab58af4ca947998c6993a8e95a4a24",
       "version_major": 2,
       "version_minor": 0
      },
      "text/plain": [
       "HBox(children=(Dropdown(description='Start Hour (UTC):', layout=Layout(width='375px'), options=('00', '01', '0…"
      ]
     },
     "metadata": {},
     "output_type": "display_data"
    },
    {
     "data": {
      "application/vnd.jupyter.widget-view+json": {
       "model_id": "50288a8a57a841469874bedb63f73614",
       "version_major": 2,
       "version_minor": 0
      },
      "text/plain": [
       "HBox(children=(Dropdown(description='End Hour (UTC):', layout=Layout(width='375px'), options=('00', '01', '02'…"
      ]
     },
     "metadata": {},
     "output_type": "display_data"
    }
   ],
   "source": [
    "# Enter satellite, ABI L2 product, view sector, observation date & start/end times for AWS search\n",
    "# Selections are made using interactive Jupyter Notebook widgets\n",
    "# Run this block *once* to generate menus\n",
    "# When main function is run, it reads \".value\" of each menu selection\n",
    "# Do NOT re-run block if you change menu selections (re-running block resets menus to defaults)!\n",
    "\n",
    "# Formatting settings for drop-down menus\n",
    "style = {'description_width':'120px'}\n",
    "layout = widgets.Layout(width='375px')\n",
    "\n",
    "# Create drop-down menus using widgets\n",
    "satellite = widgets.Dropdown(options=[('GOES-16', 16), ('GOES-17', 17), ('GOES-18', 18)], description='Satellite:', style=style, layout=layout)\n",
    "product = widgets.Dropdown(options=[('ABI-L1b-Rad'), ('Aerosol Detection'), ('Aerosol Optical Depth'), ('Clear Sky Mask'), ('Cloud & Moisture Imagery'), ('Cloud & Moisture Imagery Multiband'), ('Cloud Optical Depth'), ('Cloud Particle Size'), ('Cloud Top Height'), ('Cloud Top Phase'), ('Cloud Top Pressure'), ('Cloud Top Temperature'), ('Derived Motion Winds'), ('Derived Stability Indices'), ('Downward Shortwave Radiation'), ('Fire Hotspot Characterization'), ('Land Surface Temperature'), ('Legacy Vertical Moisture Profile'), ('Legacy Vertical Temperature Profile'), ('Rainfall Rate/QPE'), ('Reflected Shortwave Radiation'), ('Sea Surface Temperature'), ('Total Precipitable Water'), ('Volcanic Ash')], description='Product:', style=style, layout=layout)\n",
    "sector = widgets.Dropdown(options=[('Full Disk'), ('CONUS'), ('Meso 1'), ('Meso 2')], description='Scan Sector:', style=style, layout=layout)\n",
    "year = widgets.Dropdown(options=[('2019', 2019), ('2020', 2020), ('2021', 2021), ('2022', 2022), ('2023', 2023), ('2024', 2024), ('2025', 2025)], description='Year:', style=style, layout=layout)\n",
    "month = widgets.Dropdown(options=[('Jan', 1), ('Feb', 2), ('Mar', 3), ('Apr', 4), ('May', 5), ('Jun', 6), ('Jul', 7), ('Aug', 8), ('Sep', 9), ('Oct', 10), ('Nov', 11), ('Dec', 12)], description='Month:', style=style, layout=layout)\n",
    "bands = widgets.SelectMultiple(options=[('C01'), ('C02'), ('C03'), ('C04'), ('C05'), ('C06'), ('C07'), ('C08'), ('C09'), ('C10'), ('C11'), ('C12'), ('C13'), ('C14'), ('C15'), ('C16'), ('All Bands')], description='Bands (if L1B):', style=style, layout=layout)\n",
    "day = widgets.Dropdown(options=[('1', 1), ('2', 2), ('3', 3), ('4', 4), ('5', 5), ('6', 6), ('7', 7), ('8', 8), ('9', 9), ('10', 10), ('11', 11), ('12', 12), ('13', 13), ('14', 14), ('15', 15), ('16', 16), ('17', 17), ('18', 18), ('19', 19), ('20', 20), ('21', 21), ('22', 22), ('23', 23), ('24', 24), ('25', 25), ('26', 26), ('27', 27), ('28', 28), ('29', 29), ('30', 30), ('31', 31)], description='Day:', style=style, layout=layout)\n",
    "shour = widgets.Dropdown(options=[('00'), ('01'), ('02'), ('03'), ('04'), ('05'), ('06'), ('07'), ('08'), ('09'), ('10'), ('11'), ('12'), ('13'), ('14'), ('15'), ('16'), ('17'), ('18'), ('19'), ('20'), ('21'), ('22'), ('23')], description='Start Hour (UTC):', style=style, layout=layout)\n",
    "smin = widgets.Dropdown(options=[('00'), ('01'), ('02'), ('03'), ('04'), ('05'), ('06'), ('07'), ('08'), ('09'), ('10'), ('11'), ('12'), ('13'), ('14'), ('15'), ('16'), ('17'), ('18'), ('19'), ('20'), ('21'), ('22'), ('23'), ('24'), ('25'), ('26'), ('27'), ('28'), ('29'), ('30'), ('31'), ('32'), ('33'), ('34'), ('35'), ('36'), ('37'), ('38'), ('39'), ('40'), ('41'), ('42'), ('43'), ('44'), ('45'), ('46'), ('47'), ('48'), ('49'), ('50'), ('51'), ('52'), ('53'), ('54'), ('55'), ('56'), ('57'), ('58'), ('59')], description='Start Minutes (UTC):', style=style, layout=layout)\n",
    "ehour = widgets.Dropdown(options=[('00'), ('01'), ('02'), ('03'), ('04'), ('05'), ('06'), ('07'), ('08'), ('09'), ('10'), ('11'), ('12'), ('13'), ('14'), ('15'), ('16'), ('17'), ('18'), ('19'), ('20'), ('21'), ('22'), ('23')], description='End Hour (UTC):', style=style, layout=layout)\n",
    "emin = widgets.Dropdown(options=[('00'), ('01'), ('02'), ('03'), ('04'), ('05'), ('06'), ('07'), ('08'), ('09'), ('10'), ('11'), ('12'), ('13'), ('14'), ('15'), ('16'), ('17'), ('18'), ('19'), ('20'), ('21'), ('22'), ('23'), ('24'), ('25'), ('26'), ('27'), ('28'), ('29'), ('30'), ('31'), ('32'), ('33'), ('34'), ('35'), ('36'), ('37'), ('38'), ('39'), ('40'), ('41'), ('42'), ('43'), ('44'), ('45'), ('46'), ('47'), ('48'), ('49'), ('50'), ('51'), ('52'), ('53'), ('54'), ('55'), ('56'), ('57'), ('58'), ('59')], description='End Minutes (UTC):', style=style, layout=layout)\n",
    "\n",
    "# Format observation start/end time hour and minutes menus to display side-by-side\n",
    "start_time = widgets.HBox([shour, smin])\n",
    "end_time = widgets.HBox([ehour, emin])\n",
    "\n",
    "# Display drop-down menus\n",
    "print('If you change menu selections (e.g., to run another search), do NOT re-run this block!\\nRe-running will re-set all menus to their defaults!')\n",
    "display(satellite, product, sector, year, month, day, bands)\n",
    "display(start_time, end_time)\n"
   ]
  },
  {
   "cell_type": "code",
   "execution_count": 30,
   "metadata": {},
   "outputs": [
    {
     "name": "stdout",
     "output_type": "stream",
     "text": [
      "['noaa-goes18/ABI-L2-MCMIPF/2023/306/15/OR_ABI-L2-MCMIPF-M6_G18_s20233061500212_e20233061509532_c20233061510006.nc', 'noaa-goes18/ABI-L2-MCMIPF/2023/306/15/OR_ABI-L2-MCMIPF-M6_G18_s20233061510212_e20233061519532_c20233061520000.nc', 'noaa-goes18/ABI-L2-MCMIPF/2023/306/15/OR_ABI-L2-MCMIPF-M6_G18_s20233061520212_e20233061529532_c20233061530005.nc', 'noaa-goes18/ABI-L2-MCMIPF/2023/306/15/OR_ABI-L2-MCMIPF-M6_G18_s20233061530212_e20233061539532_c20233061540003.nc', 'noaa-goes18/ABI-L2-MCMIPF/2023/306/15/OR_ABI-L2-MCMIPF-M6_G18_s20233061540212_e20233061549526_c20233061550001.nc', 'noaa-goes18/ABI-L2-MCMIPF/2023/306/15/OR_ABI-L2-MCMIPF-M6_G18_s20233061550212_e20233061559532_c20233061559599.nc']\n",
      "['noaa-goes18/ABI-L2-MCMIPF/2023/306/16/OR_ABI-L2-MCMIPF-M6_G18_s20233061600212_e20233061609526_c20233061610000.nc', 'noaa-goes18/ABI-L2-MCMIPF/2023/306/16/OR_ABI-L2-MCMIPF-M6_G18_s20233061610212_e20233061619532_c20233061620001.nc', 'noaa-goes18/ABI-L2-MCMIPF/2023/306/16/OR_ABI-L2-MCMIPF-M6_G18_s20233061620212_e20233061629532_c20233061630000.nc', 'noaa-goes18/ABI-L2-MCMIPF/2023/306/16/OR_ABI-L2-MCMIPF-M6_G18_s20233061630212_e20233061639532_c20233061640006.nc', 'noaa-goes18/ABI-L2-MCMIPF/2023/306/16/OR_ABI-L2-MCMIPF-M6_G18_s20233061640212_e20233061649532_c20233061650005.nc', 'noaa-goes18/ABI-L2-MCMIPF/2023/306/16/OR_ABI-L2-MCMIPF-M6_G18_s20233061650212_e20233061659532_c20233061700003.nc']\n",
      "['noaa-goes18/ABI-L2-MCMIPF/2023/306/17/OR_ABI-L2-MCMIPF-M6_G18_s20233061700212_e20233061709532_c20233061710007.nc', 'noaa-goes18/ABI-L2-MCMIPF/2023/306/17/OR_ABI-L2-MCMIPF-M6_G18_s20233061710212_e20233061719526_c20233061720004.nc', 'noaa-goes18/ABI-L2-MCMIPF/2023/306/17/OR_ABI-L2-MCMIPF-M6_G18_s20233061720212_e20233061729526_c20233061730005.nc', 'noaa-goes18/ABI-L2-MCMIPF/2023/306/17/OR_ABI-L2-MCMIPF-M6_G18_s20233061730212_e20233061739521_c20233061740004.nc', 'noaa-goes18/ABI-L2-MCMIPF/2023/306/17/OR_ABI-L2-MCMIPF-M6_G18_s20233061740212_e20233061749521_c20233061750007.nc', 'noaa-goes18/ABI-L2-MCMIPF/2023/306/17/OR_ABI-L2-MCMIPF-M6_G18_s20233061750212_e20233061759521_c20233061759598.nc']\n",
      "['noaa-goes18/ABI-L2-MCMIPF/2023/306/18/OR_ABI-L2-MCMIPF-M6_G18_s20233061800212_e20233061809532_c20233061810014.nc', 'noaa-goes18/ABI-L2-MCMIPF/2023/306/18/OR_ABI-L2-MCMIPF-M6_G18_s20233061810212_e20233061819526_c20233061820002.nc', 'noaa-goes18/ABI-L2-MCMIPF/2023/306/18/OR_ABI-L2-MCMIPF-M6_G18_s20233061820212_e20233061829526_c20233061829599.nc', 'noaa-goes18/ABI-L2-MCMIPF/2023/306/18/OR_ABI-L2-MCMIPF-M6_G18_s20233061830213_e20233061839521_c20233061840006.nc', 'noaa-goes18/ABI-L2-MCMIPF/2023/306/18/OR_ABI-L2-MCMIPF-M6_G18_s20233061840213_e20233061849526_c20233061850005.nc', 'noaa-goes18/ABI-L2-MCMIPF/2023/306/18/OR_ABI-L2-MCMIPF-M6_G18_s20233061850213_e20233061859532_c20233061900004.nc']\n",
      "['noaa-goes18/ABI-L2-MCMIPF/2023/306/19/OR_ABI-L2-MCMIPF-M6_G18_s20233061900213_e20233061909521_c20233061910006.nc', 'noaa-goes18/ABI-L2-MCMIPF/2023/306/19/OR_ABI-L2-MCMIPF-M6_G18_s20233061910213_e20233061919526_c20233061920004.nc', 'noaa-goes18/ABI-L2-MCMIPF/2023/306/19/OR_ABI-L2-MCMIPF-M6_G18_s20233061920213_e20233061929532_c20233061930005.nc', 'noaa-goes18/ABI-L2-MCMIPF/2023/306/19/OR_ABI-L2-MCMIPF-M6_G18_s20233061930213_e20233061939521_c20233061940003.nc', 'noaa-goes18/ABI-L2-MCMIPF/2023/306/19/OR_ABI-L2-MCMIPF-M6_G18_s20233061940213_e20233061949532_c20233061950007.nc', 'noaa-goes18/ABI-L2-MCMIPF/2023/306/19/OR_ABI-L2-MCMIPF-M6_G18_s20233061950213_e20233061959526_c20233062000003.nc']\n",
      "['noaa-goes18/ABI-L2-MCMIPF/2023/306/20/OR_ABI-L2-MCMIPF-M6_G18_s20233062000213_e20233062009532_c20233062010005.nc', 'noaa-goes18/ABI-L2-MCMIPF/2023/306/20/OR_ABI-L2-MCMIPF-M6_G18_s20233062010213_e20233062019526_c20233062019599.nc', 'noaa-goes18/ABI-L2-MCMIPF/2023/306/20/OR_ABI-L2-MCMIPF-M6_G18_s20233062020213_e20233062029533_c20233062030002.nc', 'noaa-goes18/ABI-L2-MCMIPF/2023/306/20/OR_ABI-L2-MCMIPF-M6_G18_s20233062030213_e20233062039533_c20233062040002.nc', 'noaa-goes18/ABI-L2-MCMIPF/2023/306/20/OR_ABI-L2-MCMIPF-M6_G18_s20233062040213_e20233062049532_c20233062050004.nc', 'noaa-goes18/ABI-L2-MCMIPF/2023/306/20/OR_ABI-L2-MCMIPF-M6_G18_s20233062050210_e20233062059530_c20233062100006.nc']\n",
      "['noaa-goes18/ABI-L2-MCMIPF/2023/306/21/OR_ABI-L2-MCMIPF-M6_G18_s20233062100210_e20233062109518_c20233062109598.nc', 'noaa-goes18/ABI-L2-MCMIPF/2023/306/21/OR_ABI-L2-MCMIPF-M6_G18_s20233062110210_e20233062119530_c20233062120003.nc', 'noaa-goes18/ABI-L2-MCMIPF/2023/306/21/OR_ABI-L2-MCMIPF-M6_G18_s20233062120210_e20233062129524_c20233062130000.nc', 'noaa-goes18/ABI-L2-MCMIPF/2023/306/21/OR_ABI-L2-MCMIPF-M6_G18_s20233062130210_e20233062139519_c20233062140011.nc', 'noaa-goes18/ABI-L2-MCMIPF/2023/306/21/OR_ABI-L2-MCMIPF-M6_G18_s20233062140210_e20233062149530_c20233062150002.nc', 'noaa-goes18/ABI-L2-MCMIPF/2023/306/21/OR_ABI-L2-MCMIPF-M6_G18_s20233062150210_e20233062159524_c20233062200008.nc']\n",
      "Available data files (approximate file size):\n",
      "OR_ABI-L2-MCMIPF-M6_G18_s20233061500212_e20233061509532_c20233061510006.nc (295.8 MB)\n",
      "OR_ABI-L2-MCMIPF-M6_G18_s20233061510212_e20233061519532_c20233061520000.nc (298.5 MB)\n",
      "OR_ABI-L2-MCMIPF-M6_G18_s20233061520212_e20233061529532_c20233061530005.nc (301.2 MB)\n",
      "OR_ABI-L2-MCMIPF-M6_G18_s20233061530212_e20233061539532_c20233061540003.nc (304.0 MB)\n",
      "OR_ABI-L2-MCMIPF-M6_G18_s20233061540212_e20233061549526_c20233061550001.nc (306.8 MB)\n",
      "OR_ABI-L2-MCMIPF-M6_G18_s20233061550212_e20233061559532_c20233061559599.nc (309.2 MB)\n",
      "OR_ABI-L2-MCMIPF-M6_G18_s20233061600212_e20233061609526_c20233061610000.nc (312.0 MB)\n",
      "OR_ABI-L2-MCMIPF-M6_G18_s20233061610212_e20233061619532_c20233061620001.nc (314.5 MB)\n",
      "OR_ABI-L2-MCMIPF-M6_G18_s20233061620212_e20233061629532_c20233061630000.nc (317.2 MB)\n",
      "OR_ABI-L2-MCMIPF-M6_G18_s20233061630212_e20233061639532_c20233061640006.nc (318.0 MB)\n",
      "OR_ABI-L2-MCMIPF-M6_G18_s20233061640212_e20233061649532_c20233061650005.nc (322.5 MB)\n",
      "OR_ABI-L2-MCMIPF-M6_G18_s20233061650212_e20233061659532_c20233061700003.nc (325.2 MB)\n",
      "OR_ABI-L2-MCMIPF-M6_G18_s20233061700212_e20233061709532_c20233061710007.nc (327.8 MB)\n",
      "OR_ABI-L2-MCMIPF-M6_G18_s20233061710212_e20233061719526_c20233061720004.nc (330.5 MB)\n",
      "OR_ABI-L2-MCMIPF-M6_G18_s20233061720212_e20233061729526_c20233061730005.nc (333.0 MB)\n",
      "OR_ABI-L2-MCMIPF-M6_G18_s20233061730212_e20233061739521_c20233061740004.nc (335.2 MB)\n",
      "OR_ABI-L2-MCMIPF-M6_G18_s20233061740212_e20233061749521_c20233061750007.nc (337.8 MB)\n",
      "OR_ABI-L2-MCMIPF-M6_G18_s20233061750212_e20233061759521_c20233061759598.nc (340.2 MB)\n",
      "OR_ABI-L2-MCMIPF-M6_G18_s20233061800212_e20233061809532_c20233061810014.nc (342.5 MB)\n",
      "OR_ABI-L2-MCMIPF-M6_G18_s20233061810212_e20233061819526_c20233061820002.nc (344.8 MB)\n",
      "OR_ABI-L2-MCMIPF-M6_G18_s20233061820212_e20233061829526_c20233061829599.nc (346.8 MB)\n",
      "OR_ABI-L2-MCMIPF-M6_G18_s20233061830213_e20233061839521_c20233061840006.nc (348.5 MB)\n",
      "OR_ABI-L2-MCMIPF-M6_G18_s20233061840213_e20233061849526_c20233061850005.nc (350.2 MB)\n",
      "OR_ABI-L2-MCMIPF-M6_G18_s20233061850213_e20233061859532_c20233061900004.nc (351.5 MB)\n",
      "OR_ABI-L2-MCMIPF-M6_G18_s20233061900213_e20233061909521_c20233061910006.nc (352.5 MB)\n",
      "OR_ABI-L2-MCMIPF-M6_G18_s20233061910213_e20233061919526_c20233061920004.nc (353.8 MB)\n",
      "OR_ABI-L2-MCMIPF-M6_G18_s20233061920213_e20233061929532_c20233061930005.nc (354.8 MB)\n",
      "OR_ABI-L2-MCMIPF-M6_G18_s20233061930213_e20233061939521_c20233061940003.nc (355.5 MB)\n",
      "OR_ABI-L2-MCMIPF-M6_G18_s20233061940213_e20233061949532_c20233061950007.nc (356.5 MB)\n",
      "OR_ABI-L2-MCMIPF-M6_G18_s20233061950213_e20233061959526_c20233062000003.nc (357.0 MB)\n",
      "OR_ABI-L2-MCMIPF-M6_G18_s20233062000213_e20233062009532_c20233062010005.nc (357.8 MB)\n",
      "OR_ABI-L2-MCMIPF-M6_G18_s20233062010213_e20233062019526_c20233062019599.nc (358.2 MB)\n",
      "OR_ABI-L2-MCMIPF-M6_G18_s20233062020213_e20233062029533_c20233062030002.nc (358.5 MB)\n",
      "OR_ABI-L2-MCMIPF-M6_G18_s20233062030213_e20233062039533_c20233062040002.nc (358.8 MB)\n",
      "OR_ABI-L2-MCMIPF-M6_G18_s20233062040213_e20233062049532_c20233062050004.nc (358.8 MB)\n",
      "OR_ABI-L2-MCMIPF-M6_G18_s20233062050210_e20233062059530_c20233062100006.nc (358.8 MB)\n",
      "OR_ABI-L2-MCMIPF-M6_G18_s20233062100210_e20233062109518_c20233062109598.nc (358.5 MB)\n",
      "\n",
      "Data files will be saved to: /Users/andiegomez-patron/Desktop/Event_13/L2_BT/\n"
     ]
    },
    {
     "name": "stderr",
     "output_type": "stream",
     "text": [
      "Downloading:100%|██████████|37/37 [16:37<00:00]"
     ]
    },
    {
     "name": "stdout",
     "output_type": "stream",
     "text": [
      "\n",
      "Download complete!\n"
     ]
    },
    {
     "name": "stderr",
     "output_type": "stream",
     "text": [
      "\n"
     ]
    }
   ],
   "source": [
    "# Find Julian day from user-specified observation year/month/day\n",
    "# ABI data files are classified by Julian day; needed for AWS search\n",
    "# \"year\", \"month\", \"day\": parameter variables from widget menus, set in main function\n",
    "\n",
    "def find_julian(year, month, day):\n",
    "    calendar = datetime.datetime(year, month, day)\n",
    "    julian_day = calendar.strftime('%j')\n",
    "    \n",
    "    return julian_day\n",
    "\n",
    "# Find ABI L2 product abbreviation from user-specified product/scan sector\n",
    "# Abbreviation is part of ABI file name; needed for AWS search\n",
    "# \"sector\", \"product\": parameter variables from widget menus, set in main function\n",
    "\n",
    "def get_product_abbreviation(sector, product):\n",
    "    \n",
    "    # Define dictionary keys\n",
    "    keys = ['Full Disk', 'CONUS', 'Meso 1', 'Meso 2']\n",
    "    \n",
    "    # Define dictionary values for each ABI L2 product \n",
    "    if product == 'ABI-L1b-Rad':\n",
    "        values = ['ABI-L1b-RadF', 'ABI-L1b-RadC', 'ABI-L1b-RadM', 'ABI-L1b-RadM']\n",
    "    elif product == 'Aerosol Detection':\n",
    "        values = ['ABI-L2-ADPF', 'ABI-L2-ADPC', 'ABI-L2-ADPM', 'ABI-L2-ADPM']\n",
    "    elif product == 'Aerosol Optical Depth':\n",
    "        values = ['ABI-L2-AODF', 'ABI-L2-AODC', 'None', 'None']\n",
    "    elif product == 'Clear Sky Mask':\n",
    "        values = ['ABI-L2-ACMF', 'ABI-L2-ACMC', 'ABI-L2-ACMM', 'ABI-L2-ACMM']\n",
    "    elif product == 'Cloud & Moisture Imagery':\n",
    "        values = ['ABI-L2-CMIPF', 'ABI-L2-CMIPC', 'ABI-L2-CMIPM', 'ABI-L2-CMIPM']\n",
    "    elif product == 'Cloud & Moisture Imagery Multiband':\n",
    "        values = ['ABI-L2-MCMIPF', 'ABI-L2-MCMIPC', 'ABI-L2-MCMIPM', 'ABI-L2-MCMIPM']\n",
    "    elif product == 'Cloud Optical Depth':\n",
    "        values = ['ABI-L2-CODF', 'ABI-L2-CODC', 'None', 'None']\n",
    "    elif product == 'Cloud Particle Size':\n",
    "        values = ['ABI-L2-CPSF', 'ABI-L2-CPSC', 'ABI-L2-CPSM', 'ABI-L2-CPSM']\n",
    "    elif product == 'Cloud Top Height':\n",
    "        values = ['ABI-L2-ACHAF', 'ABI-L2-ACHAC', 'ABI-L2-ACHAM', 'ABI-L2-ACHAM']\n",
    "    elif product == 'Cloud Top Phase':\n",
    "        values = ['ABI-L2-ACTPF', 'ABI-L2-ACTPC', 'ABI-L2-ACTPM', 'ABI-L2-ACTPM']\n",
    "    elif product == 'Cloud Top Pressure':\n",
    "        values = ['ABI-L2-CTPF', 'ABI-L2-CTPC', 'None', 'None']\n",
    "    elif product == 'Cloud Top Temperature':\n",
    "        values = ['ABI-L2-ACHTF', 'None', 'ABI-L2-ACHTM', 'ABI-L2-ACHTM']\n",
    "    elif product == 'Derived Motion Winds':\n",
    "        values = ['ABI-L2-DMWF', 'ABI-L2-DMWC', 'ABI-L2-DMWM', 'ABI-L2-DMWM']\n",
    "    elif product == 'Derived Stability Indices':\n",
    "        values = ['ABI-L2-DSIF', 'ABI-L2-DSIC', 'ABI-L2-DSIM', 'ABI-L2-DSIM']\n",
    "    elif product == 'Downward Shortwave Radiation':\n",
    "        values = ['ABI-L2-DSRF', 'ABI-L2-DSRC', 'ABI-L2-DSRM', 'ABI-L2-DSRM']\n",
    "    elif product == 'Fire Hotspot Characterization':\n",
    "        values = ['ABI-L2-FDCF', 'ABI-L2-FDCC', 'ABI-L2-FDCM', 'ABI-L2-FDCM']\n",
    "    elif product == 'Land Surface Temperature':\n",
    "        values = ['ABI-L2-LSTF', 'ABI-L2-LSTC', 'ABI-L2-LSTM', 'ABI-L2-LSTM']\n",
    "    elif product == 'Legacy Vertical Moisture Profile':\n",
    "        values = ['ABI-L2-LVMPF', 'ABI-L2-LVMPC', 'ABI-L2-LVMPM', 'ABI-L2-LVMPM']\n",
    "    elif product == 'Legacy Vertical Temperature Profile':\n",
    "        values = ['ABI-L2-LVTPF', 'ABI-L2-LVTPC', 'ABI-L2-LVTPM', 'ABI-L2-LVTPM']\n",
    "    elif product == 'Rainfall Rate/QPE':\n",
    "        values = ['ABI-L2-RRQPEF', 'None', 'None', 'None']\n",
    "    elif product == 'Reflected Shortwave Radiation':\n",
    "        values = ['ABI-L2-RSRF', 'ABI-L2-RSRC', 'None', 'None']\n",
    "    elif product == 'Sea Surface Temperature':\n",
    "        values = ['ABI-L2-SSTF', 'None', 'None', 'None']\n",
    "    elif product == 'Total Precipitable Water':\n",
    "        values = ['ABI-L2-TPWF', 'ABI-L2-TPWC', 'ABI-L2-TPWM', 'ABI-L2-TPWM']\n",
    "    elif product == 'Volcanic Ash':\n",
    "        values = ['ABI-L2-VAAF', 'None', 'None', 'None']\n",
    "\n",
    "    # Use list comprehension to combine \"values\" and \"keys\" lists\n",
    "    abbreviation_dictionary = {keys[i]: values[i] for i in range(len(keys))}\n",
    "    \n",
    "    # Get product abbreviation for specified product and scan sector\n",
    "    product_abbreviation = abbreviation_dictionary.get(sector)\n",
    "    \n",
    "    return product_abbreviation\n",
    "\n",
    "\n",
    "# Create list containing ABI L2 data file names for user-specified satellite/product and date/time period\n",
    "# \"year\", \"month\", \"day, \"start_hour\", \"start_min\", \"end_hour\", \"end_min\", \"satellite\", \"sector\", 'product': parameter \n",
    "# variables from widget menus, set in main function\n",
    "\n",
    "def aws_abi_list(year, month, day, start_hour, start_min, end_hour, end_min, bands, satellite, sector, product):\n",
    "    \n",
    "    # Access AWS S3 using anonymous credentials\n",
    "    aws = s3fs.S3FileSystem(anon=True)\n",
    "    \n",
    "    # Get all ABI L2 data file names encompassing user-specified satellite/product, date, and start/end hours\n",
    "    julian_day = find_julian(year, month, day)\n",
    "    product_abbreviation = get_product_abbreviation(sector, product)\n",
    "    hour_range = range(int(start_hour), int(end_hour) + 1)\n",
    "    all_hours_list = []\n",
    "    for hour in hour_range:\n",
    "        # Query AWS ABI archive for ABI L2 file names\n",
    "        # \"'{number:02d}'.format(number=hour)\" adds leading zero to hours < 10 in hour_range array\n",
    "        # \"refresh=True\" argument clears cache so NRT files on AWS ABI archive are retrievable\n",
    "        if product == 'ABI-L1b-Rad':\n",
    "            hour_files = aws.ls('noaa-goes' + str(satellite) + '/' + product_abbreviation + '/' + str(year) + '/' + julian_day + '/' + '{number:02d}'.format(number=hour) + '/', refresh=True)\n",
    "        else:\n",
    "            hour_files = aws.ls('noaa-goes' + str(satellite) + '/' + product_abbreviation + '/' + str(year) + '/' + julian_day + '/' + '{number:02d}'.format(number=hour) + '/', refresh=True)\n",
    "        print(hour_files)\n",
    "        all_hours_list.extend(hour_files)\n",
    "        # print(all_hours_list)\n",
    "    \n",
    "    # Extract ABI L2 data file names for exact period set by user-specified observation start/end times\n",
    "    # Use reverse indexing to count from end of ABI file names\n",
    "    data = []\n",
    "    for file in all_hours_list:\n",
    "        # For Meso products, extract only file names for user-specified view sector (e.g., \"Meso 1\" or \"Meso 2\")\n",
    "        if sector == 'Meso 1' or sector == 'Meso 2':\n",
    "            # Extract file names for L2 products that have files for individual ABI bands\n",
    "            if product == 'Cloud & Moisture Imagery' or product == 'Derived Motion Winds' or product == 'ABI-L1b-Rad':\n",
    "                if file[-42:-38] >= (start_hour + start_min) and file[-42:-38] <= (end_hour + end_min) and file[-62] == sector[-1]:\n",
    "                    data.append(file)\n",
    "                else:\n",
    "                    continue\n",
    "            else:\n",
    "                # Extract file names for remaining L2 products\n",
    "                if file[-42:-38] >= (start_hour + start_min) and file[-42:-38] <= (end_hour + end_min) and file[-59] == sector[-1]:\n",
    "                    data.append(file)\n",
    "                else:\n",
    "                    continue\n",
    "        else:\n",
    "            # Extract file names for Full Disk and CONUS products\n",
    "            if file[-42:-38] >= (start_hour + start_min) and file[-42:-38] <= (end_hour + end_min):\n",
    "                data.append(file)\n",
    "            else:\n",
    "                continue\n",
    "    if product == 'ABI-L1b-Rad':\n",
    "        print('Bands: ', list(bands))\n",
    "        data = data\n",
    "        \n",
    "        if list(bands) == 'All Bands':\n",
    "            print('Bands selected: ', list(bands), '\\n')\n",
    "        else:\n",
    "            print('Bands selected: ', list(bands), '\\n')\n",
    "            bands = list(bands)\n",
    "            data = [str for str in data if any(sub in str for sub in bands)]\n",
    "\n",
    "    return data\n",
    "\n",
    "# Print available ABI L2 data files that match user specifications, with option to download files\n",
    "# \"save_path\": parameter variable assigned in main function\n",
    "\n",
    "def get_abi_files(year, month, day, start_hour, start_min, end_hour, end_min, bands, satellite, sector, product, save_path):\n",
    "\n",
    "    # Query AWS ABI archive and print names/sizes of available L2 files\n",
    "    data = aws_abi_list(year, month, day, start_hour, start_min, end_hour, end_min, bands, satellite, sector, product)\n",
    "    \n",
    "    if len(data) > 0:\n",
    "        # Access AWS using anonymous credentials\n",
    "        aws = s3fs.S3FileSystem(anon=True)\n",
    "        \n",
    "        # Print list of available data files\n",
    "        print('Available data files (approximate file size):')\n",
    "        for file in data:\n",
    "            file_size = aws.size(file)\n",
    "            # sep='' removes extra spaces b/w print elements\n",
    "            print(file.split('/')[-1], ' (', np.format_float_positional(np.float16(file_size/1.0E6), unique=False, precision=1), ' MB)', sep='')\n",
    "        \n",
    "        # Print directory where files will be saved\n",
    "        print('\\nData files will be saved to: ' + str(save_path))\n",
    "        \n",
    "        # Ask user if they want to download the available data files\n",
    "        # If yes, download files to specified directory\n",
    "        download_question = 'Would you like to download the ' + str(len(data)) + ' files?\\nType \"yes\" or \"no\" and hit \"Enter\"\\n'\n",
    "        download_files = input(download_question)\n",
    "        if download_files in ['yes', 'YES', 'Yes', 'y', 'Y']:\n",
    "            \n",
    "            # Display progress bar using tqdm library\n",
    "            # Flush buffer if Python version < v3.9 to avoid glitch in tqdm library\n",
    "            if parse(sys.version.split(' ')[0]) < parse('3.9'):\n",
    "                sys.stdout.flush()\n",
    "            else:\n",
    "                pass\n",
    "            for name in tqdm(data, unit='files', bar_format=\"{desc}Downloading:{percentage:3.0f}%|{bar}|{n_fmt}/{total_fmt} [{elapsed}<{remaining}]\"):\n",
    "                # Set save_path + file_name as pathlib.Path object and convert to string (for AWS)\n",
    "                full_path = str(save_path + name.split('/')[-1])\n",
    "                # Download file from AWS archive\n",
    "                aws.get(name, full_path)\n",
    "            print('\\nDownload complete!')\n",
    "        else:\n",
    "            print('Files are not being downloaded.')\n",
    "    else:\n",
    "        print('No files retrieved. Check settings and try again.')\n",
    "\n",
    "# Execute search of AWS to find ABI L2 data files, with option to download files\n",
    "# Get values from widget menus (AWS search parameters) using \".value\"\n",
    "\n",
    "# Main function\n",
    "if __name__ == \"__main__\":\n",
    "    \n",
    "    # Set directory to save downloaded ABI files (as pathlib.Path object)\n",
    "    # Use current working directory for simplicity\n",
    "    save_path = '/Users/andiegomez-patron/Desktop/Event_13/L2_BT/' # '/Volumes/GOES_DRIVE/2023/Event_1/L2_BT/' #  # \n",
    "    # save_path = '/Users/andiegomez-patron/Desktop/Event_13/L1B_Rad/' #'/Volumes/GOES_DRIVE/2023/Event_1/L1B_Rad/' # \n",
    "    # save_path = '/Users/andiegomez-patron/Desktop/GOES_Test_Data/2023_L2_M1/'\n",
    "    # Notify user if selected product is not generated for selected scan sector\n",
    "    product_abbreviation = get_product_abbreviation(sector.value, product.value)\n",
    "    if product_abbreviation == 'None':\n",
    "        print('The selected product is not generated for the selected view sector. Try again.')\n",
    "    else:\n",
    "        # List/download available ABI L2 data files\n",
    "        get_abi_files(year.value, month.value, day.value, shour.value, smin.value, ehour.value, emin.value, bands.value, satellite.value, \n",
    "                  sector.value, product.value, save_path)\n"
   ]
  }
 ],
 "metadata": {
  "kernelspec": {
   "display_name": "base",
   "language": "python",
   "name": "python3"
  },
  "language_info": {
   "codemirror_mode": {
    "name": "ipython",
    "version": 3
   },
   "file_extension": ".py",
   "mimetype": "text/x-python",
   "name": "python",
   "nbconvert_exporter": "python",
   "pygments_lexer": "ipython3",
   "version": "3.8.18"
  }
 },
 "nbformat": 4,
 "nbformat_minor": 2
}
